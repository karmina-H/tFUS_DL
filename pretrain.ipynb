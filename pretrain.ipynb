{
 "cells": [
  {
   "cell_type": "code",
   "execution_count": null,
   "id": "208e6249",
   "metadata": {},
   "outputs": [],
   "source": [
    "import torch\n",
    "import torch.optim as optim\n",
    "from torch.utils.data import DataLoader, TensorDataset\n",
    "from AutoEncoder import Autoencoder3D\n",
    "import numpy as np\n",
    "import matplotlib.pyplot as plt\n"
   ]
  },
  {
   "cell_type": "code",
   "execution_count": null,
   "id": "65ae6d34",
   "metadata": {},
   "outputs": [],
   "source": [
    "# 데이터 로드\n",
    "arr = np.load(\"../output.npy\")\n",
    "tensor_data = torch.from_numpy(arr)\n",
    "dataset = TensorDataset(tensor_data, tensor_data)  # Autoencoder는 입력=출력\n",
    "dataloader = DataLoader(dataset, batch_size=32, shuffle=True)\n"
   ]
  },
  {
   "cell_type": "code",
   "execution_count": null,
   "id": "084ed927",
   "metadata": {},
   "outputs": [],
   "source": [
    "# ----- 모델/손실/옵티마이저 -----\n",
    "device = torch.device(\"cuda\" if torch.cuda.is_available() else \"cpu\")\n",
    "model = Autoencoder3D().to(device)\n",
    "criterion = nn.MSELoss()\n",
    "optimizer = optim.Adam(model.parameters(), lr=1e-4)"
   ]
  },
  {
   "cell_type": "code",
   "execution_count": null,
   "id": "779e8aeb",
   "metadata": {},
   "outputs": [],
   "source": [
    "# 시각화용 list\n",
    "loss_list = []"
   ]
  },
  {
   "cell_type": "code",
   "execution_count": null,
   "id": "ce4af966",
   "metadata": {},
   "outputs": [],
   "source": [
    "epochs = 300\n",
    "\n",
    "plt.ion()  # interactive mode ON\n",
    "fig, ax = plt.subplots(figsize=(8,5))\n",
    "\n",
    "min_acc = 99999\n",
    "\n",
    "for epoch in range(epochs):\n",
    "    model.train()\n",
    "    epoch_loss = 0.0\n",
    "\n",
    "    for x, y in dataloader:\n",
    "        x, y = x.to(device), y.to(device)\n",
    "\n",
    "        optimizer.zero_grad()\n",
    "        y_pred = model(x)\n",
    "        loss = criterion(y_pred, y)\n",
    "        loss.backward()\n",
    "        optimizer.step()\n",
    "\n",
    "        epoch_loss += loss.item()\n",
    "\n",
    "    avg_loss = epoch_loss / len(dataloader)\n",
    "\n",
    "    if avg_loss < min_acc:\n",
    "        min_acc = avg_loss\n",
    "        if epoch > 50:\n",
    "            torch.save(model.state_dict(), f\"autoencoder_epoch[{epoch}]_loss[{avg_loss:.3f}].pth\")\n",
    "            \n",
    "    loss_list.append(avg_loss)\n",
    "\n",
    "    # --- 실시간 그래프 업데이트 ---\n",
    "    ax.clear()\n",
    "    ax.plot(loss_list, label=\"Training Loss\", color=\"blue\")\n",
    "    ax.set_xlabel(\"Epoch\")\n",
    "    ax.set_ylabel(\"MSE Loss\")\n",
    "    ax.set_title(\"Autoencoder3D Training Loss\")\n",
    "    ax.legend()\n",
    "    ax.grid(True)\n",
    "    plt.pause(0.01)  # 짧게 멈추면서 그래프 갱신\n",
    "\n",
    "    print(f\"[Epoch {epoch+1}/{epochs}] Loss: {avg_loss:.6f}\")\n",
    "\n",
    "plt.ioff()  # interactive mode OFF\n",
    "plt.show()  # 최종 결과 표시\n",
    "\n",
    "# ----- 모델 저장 -----\n",
    "torch.save(model.state_dict(), \"autoencoder3d.pth\")\n"
   ]
  }
 ],
 "metadata": {
  "kernelspec": {
   "display_name": "tfus",
   "language": "python",
   "name": "python3"
  },
  "language_info": {
   "name": "python",
   "version": "3.10.18"
  }
 },
 "nbformat": 4,
 "nbformat_minor": 5
}
