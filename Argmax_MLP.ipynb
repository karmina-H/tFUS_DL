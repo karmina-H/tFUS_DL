{
 "cells": [
  {
   "cell_type": "code",
   "execution_count": 1,
   "id": "d16d5159",
   "metadata": {},
   "outputs": [
    {
     "ename": "ModuleNotFoundError",
     "evalue": "No module named 'torch'",
     "output_type": "error",
     "traceback": [
      "\u001b[1;31m---------------------------------------------------------------------------\u001b[0m",
      "\u001b[1;31mModuleNotFoundError\u001b[0m                       Traceback (most recent call last)",
      "Cell \u001b[1;32mIn[1], line 1\u001b[0m\n\u001b[1;32m----> 1\u001b[0m \u001b[38;5;28;01mimport\u001b[39;00m\u001b[38;5;250m \u001b[39m\u001b[38;5;21;01mtorch\u001b[39;00m\n\u001b[0;32m      2\u001b[0m \u001b[38;5;28;01mimport\u001b[39;00m\u001b[38;5;250m \u001b[39m\u001b[38;5;21;01mtorch\u001b[39;00m\u001b[38;5;21;01m.\u001b[39;00m\u001b[38;5;21;01moptim\u001b[39;00m\u001b[38;5;250m \u001b[39m\u001b[38;5;28;01mas\u001b[39;00m\u001b[38;5;250m \u001b[39m\u001b[38;5;21;01moptim\u001b[39;00m\n\u001b[0;32m      3\u001b[0m \u001b[38;5;28;01mfrom\u001b[39;00m\u001b[38;5;250m \u001b[39m\u001b[38;5;21;01mtorch\u001b[39;00m\u001b[38;5;21;01m.\u001b[39;00m\u001b[38;5;21;01mutils\u001b[39;00m\u001b[38;5;21;01m.\u001b[39;00m\u001b[38;5;21;01mdata\u001b[39;00m\u001b[38;5;250m \u001b[39m\u001b[38;5;28;01mimport\u001b[39;00m DataLoader, TensorDataset\n",
      "\u001b[1;31mModuleNotFoundError\u001b[0m: No module named 'torch'"
     ]
    }
   ],
   "source": [
    "import torch\n",
    "import torch.optim as optim\n",
    "from torch.utils.data import DataLoader, TensorDataset\n",
    "import numpy as np\n",
    "import matplotlib.pyplot as plt\n",
    "import torch.nn as nn\n"
   ]
  },
  {
   "cell_type": "markdown",
   "id": "a8f57c5c",
   "metadata": {},
   "source": [
    "### Data Load"
   ]
  },
  {
   "cell_type": "code",
   "execution_count": null,
   "id": "cfdcf104",
   "metadata": {},
   "outputs": [],
   "source": [
    "# 데이터 로드\n",
    "arr = np.load(\"../output.npy\")\n",
    "tensor_data = torch.from_numpy(arr)\n",
    "dataset = TensorDataset(tensor_data, tensor_data)  # Autoencoder는 입력=출력\n",
    "dataloader = DataLoader(dataset, batch_size=32, shuffle=True)\n"
   ]
  },
  {
   "cell_type": "markdown",
   "id": "a0ff8767",
   "metadata": {},
   "source": [
    "### Model Structure Define"
   ]
  },
  {
   "cell_type": "code",
   "execution_count": null,
   "id": "de122910",
   "metadata": {},
   "outputs": [],
   "source": [
    "class ChannelAttention3D(nn.Module):\n",
    "    def __init__(self, intput_size: int, hidden_size: int = 16):\n",
    "        super().__init__()\n",
    "        hidden = max(channels // reduction, 4)\n",
    "        self.avg_pool = nn.AdaptiveAvgPool3d(1)\n",
    "        self.max_pool = nn.AdaptiveMaxPool3d(1)\n",
    "        self.mlp = nn.Sequential(\n",
    "            nn.\n",
    "            nn.ReLU(inplace=True),\n",
    "            nn.Conv3d(hidden, channels, kernel_size=1, bias=False),\n",
    "        )\n",
    "        self.sigmoid = nn.Sigmoid()\n",
    "\n",
    "    def forward(self, x):\n",
    "        avg_out = self.mlp(self.avg_pool(x))\n",
    "        max_out = self.mlp(self.max_pool(x))\n",
    "        out = avg_out + max_out\n",
    "        return self.sigmoid(out)"
   ]
  },
  {
   "cell_type": "markdown",
   "id": "0a669054",
   "metadata": {},
   "source": [
    "### Loss, HpyerParameters"
   ]
  },
  {
   "cell_type": "code",
   "execution_count": null,
   "id": "b71cc801",
   "metadata": {},
   "outputs": [],
   "source": [
    "# ----- 모델/손실/옵티마이저 -----\n",
    "device = torch.device(\"cuda\" if torch.cuda.is_available() else \"cpu\")\n",
    "model = Autoencoder3D().to(device) # -> 여기 MLP로 바꿔야함\n",
    "criterion = nn.MSELoss()\n",
    "optimizer = optim.Adam(model.parameters(), lr=1e-4)"
   ]
  },
  {
   "cell_type": "code",
   "execution_count": null,
   "id": "3e4ba88b",
   "metadata": {},
   "outputs": [],
   "source": [
    "# 시각화용 list\n",
    "loss_list = []"
   ]
  },
  {
   "cell_type": "markdown",
   "id": "bb2cd1fb",
   "metadata": {},
   "source": [
    "### Train"
   ]
  },
  {
   "cell_type": "code",
   "execution_count": null,
   "id": "35cdfa06",
   "metadata": {},
   "outputs": [],
   "source": [
    "epochs = 300\n",
    "\n",
    "plt.ion()  # interactive mode ON\n",
    "fig, ax = plt.subplots(figsize=(8,5))\n",
    "\n",
    "min_acc = 99999\n",
    "\n",
    "for epoch in range(epochs):\n",
    "    model.train()\n",
    "    epoch_loss = 0.0\n",
    "\n",
    "    for x, y in dataloader:\n",
    "        x, y = x.to(device), y.to(device)\n",
    "\n",
    "        optimizer.zero_grad()\n",
    "        y_pred = model(x)\n",
    "        loss = criterion(y_pred, y)\n",
    "        loss.backward()\n",
    "        optimizer.step()\n",
    "\n",
    "        epoch_loss += loss.item()\n",
    "\n",
    "    avg_loss = epoch_loss / len(dataloader)\n",
    "\n",
    "    if avg_loss < min_acc:\n",
    "        min_acc = avg_loss\n",
    "        if epoch > 50:\n",
    "            torch.save(model.state_dict(), f\"autoencoder_epoch[{epoch}]_loss[{avg_loss:.3f}].pth\")\n",
    "            \n",
    "    loss_list.append(avg_loss)\n",
    "\n",
    "    # --- 실시간 그래프 업데이트 ---\n",
    "    ax.clear()\n",
    "    ax.plot(loss_list, label=\"Training Loss\", color=\"blue\")\n",
    "    ax.set_xlabel(\"Epoch\")\n",
    "    ax.set_ylabel(\"MSE Loss\")\n",
    "    ax.set_title(\"Autoencoder3D Training Loss\")\n",
    "    ax.legend()\n",
    "    ax.grid(True)\n",
    "    plt.pause(0.01)  # 짧게 멈추면서 그래프 갱신\n",
    "\n",
    "    print(f\"[Epoch {epoch+1}/{epochs}] Loss: {avg_loss:.6f}\")\n",
    "\n",
    "plt.ioff()  # interactive mode OFF\n",
    "plt.show()  # 최종 결과 표시\n",
    "\n",
    "# ----- 모델 저장 -----\n",
    "torch.save(model.state_dict(), \"autoencoder3d.pth\")\n"
   ]
  }
 ],
 "metadata": {
  "kernelspec": {
   "display_name": "tfus",
   "language": "python",
   "name": "python3"
  },
  "language_info": {
   "codemirror_mode": {
    "name": "ipython",
    "version": 3
   },
   "file_extension": ".py",
   "mimetype": "text/x-python",
   "name": "python",
   "nbconvert_exporter": "python",
   "pygments_lexer": "ipython3",
   "version": "3.10.18"
  }
 },
 "nbformat": 4,
 "nbformat_minor": 5
}
